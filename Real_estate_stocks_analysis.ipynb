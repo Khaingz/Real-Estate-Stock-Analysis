{
 "cells": [
  {
   "cell_type": "markdown",
   "id": "56aa4028-34e9-414d-b7a6-e415b2bbf8b8",
   "metadata": {},
   "source": [
    "# Real Estate Stock Analysis\n",
    "Intro"
   ]
  },
  {
   "cell_type": "code",
   "execution_count": 10,
   "id": "8bde0863-256e-451e-aa33-6afea6c0e093",
   "metadata": {},
   "outputs": [],
   "source": [
    "#Import the required libraries and dependencies\n",
    "#CODE HERE"
   ]
  },
  {
   "cell_type": "markdown",
   "id": "6094350b-d360-4f86-82f6-f84d98206917",
   "metadata": {},
   "source": [
    "## API to pull stock information into DF - Polygon"
   ]
  },
  {
   "cell_type": "code",
   "execution_count": 11,
   "id": "df1329d3-a8bb-40fa-9cce-69963920b12a",
   "metadata": {},
   "outputs": [],
   "source": [
    "#Make an API call to access the current prices for BEKE, OPEN, RDFN, Z, EXPI, AMT, CBRE, WY, ESS, AVB, ARE"
   ]
  },
  {
   "cell_type": "markdown",
   "id": "4636ccc3-f3c5-4995-bd87-a3b39ff0a736",
   "metadata": {
    "tags": []
   },
   "source": [
    "## Data cleaning/slicing"
   ]
  },
  {
   "cell_type": "code",
   "execution_count": 12,
   "id": "07fa5152-07b5-47f2-867d-47d08618a408",
   "metadata": {},
   "outputs": [],
   "source": [
    "#CODE HERE"
   ]
  },
  {
   "cell_type": "markdown",
   "id": "e0b99338-10db-45c2-8901-1cd271bbd5a4",
   "metadata": {},
   "source": [
    "## Analysis\n",
    "hvplot and other interactive visualizations"
   ]
  },
  {
   "cell_type": "code",
   "execution_count": 13,
   "id": "d067acc7-bd37-4746-b0e7-c56869ec8841",
   "metadata": {},
   "outputs": [],
   "source": [
    "#Calculate daily returns"
   ]
  },
  {
   "cell_type": "code",
   "execution_count": 14,
   "id": "48558808-2629-4340-a427-d4d4f6d7ff35",
   "metadata": {},
   "outputs": [],
   "source": [
    "#Plot daily returns"
   ]
  },
  {
   "cell_type": "code",
   "execution_count": 15,
   "id": "61f19d54-110c-4f1f-973c-c8b33e545c5b",
   "metadata": {},
   "outputs": [],
   "source": [
    "#Standard deviations"
   ]
  },
  {
   "cell_type": "code",
   "execution_count": 16,
   "id": "2b1bb239-c31f-4d0e-8fca-32dd8c3f7121",
   "metadata": {},
   "outputs": [],
   "source": [
    "#Cumulative Returns"
   ]
  },
  {
   "cell_type": "code",
   "execution_count": 17,
   "id": "aab5b4cd-9feb-4d31-b8d9-6061ccee604f",
   "metadata": {},
   "outputs": [],
   "source": [
    "#Sharpe ratios"
   ]
  },
  {
   "cell_type": "code",
   "execution_count": 18,
   "id": "9f924b0e-e6a9-4540-8554-045d48944b2a",
   "metadata": {},
   "outputs": [],
   "source": [
    "#Betas"
   ]
  },
  {
   "cell_type": "code",
   "execution_count": 19,
   "id": "3098c394-ef0f-4a91-a1ed-bca48c8db5fe",
   "metadata": {},
   "outputs": [],
   "source": [
    "#Monte Carlo Sim"
   ]
  },
  {
   "cell_type": "markdown",
   "id": "91f675e5-6cdd-43cb-89dc-c96e98d49023",
   "metadata": {},
   "source": [
    "## Trend Analysis and Investment Recommendations"
   ]
  },
  {
   "cell_type": "code",
   "execution_count": null,
   "id": "4b0aa948-1bbb-4b7f-9eed-8393862f60fb",
   "metadata": {},
   "outputs": [],
   "source": [
    "#ANSWER HERE"
   ]
  }
 ],
 "metadata": {
  "kernelspec": {
   "display_name": "Python (dev)",
   "language": "python",
   "name": "dev"
  },
  "language_info": {
   "codemirror_mode": {
    "name": "ipython",
    "version": 3
   },
   "file_extension": ".py",
   "mimetype": "text/x-python",
   "name": "python",
   "nbconvert_exporter": "python",
   "pygments_lexer": "ipython3",
   "version": "3.7.11"
  }
 },
 "nbformat": 4,
 "nbformat_minor": 5
}
